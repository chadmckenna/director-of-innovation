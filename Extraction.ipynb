{
 "cells": [
  {
   "cell_type": "code",
   "execution_count": 62,
   "id": "9c190e67-245f-4c51-b18c-93fa8f8732c3",
   "metadata": {},
   "outputs": [],
   "source": [
    "# pip install pym3u8downloader\n",
    "# pip install m3u8_To_MP4"
   ]
  },
  {
   "cell_type": "code",
   "execution_count": 63,
   "id": "8827c0d7-b551-4106-93b0-e5e512b5c102",
   "metadata": {},
   "outputs": [
    {
     "name": "stderr",
     "output_type": "stream",
     "text": [
      "huggingface/tokenizers: The current process just got forked, after parallelism has already been used. Disabling parallelism to avoid deadlocks...\n",
      "To disable this warning, you can either:\n",
      "\t- Avoid using `tokenizers` before the fork if possible\n",
      "\t- Explicitly set the environment variable TOKENIZERS_PARALLELISM=(true | false)\n"
     ]
    },
    {
     "name": "stdout",
     "output_type": "stream",
     "text": [
      "Requirement already satisfied: m3u8_To_MP4 in /opt/anaconda3/lib/python3.12/site-packages (0.1.11)\n",
      "Requirement already satisfied: iso8601>=0.1.14 in /opt/anaconda3/lib/python3.12/site-packages (from m3u8_To_MP4) (2.1.0)\n",
      "Requirement already satisfied: m3u8>=0.9.0 in /opt/anaconda3/lib/python3.12/site-packages (from m3u8_To_MP4) (6.0.0)\n",
      "Requirement already satisfied: pycryptodome>=3.10.1 in /opt/anaconda3/lib/python3.12/site-packages (from m3u8_To_MP4) (3.21.0)\n",
      "Note: you may need to restart the kernel to use updated packages.\n"
     ]
    }
   ],
   "source": [
    "pip install m3u8_To_MP4"
   ]
  },
  {
   "cell_type": "code",
   "execution_count": 64,
   "id": "aa7336f0-05c1-4be4-9544-8d2c43c04c60",
   "metadata": {},
   "outputs": [
    {
     "ename": "FileNotFoundError",
     "evalue": "[Errno 2] No such file or directory: '/var/folders/m4/1nzc6k0j3q5f9snfrxqcpfpw0000gn/T/7emmmmyjey/index.m3u8'",
     "output_type": "error",
     "traceback": [
      "\u001b[0;31m---------------------------------------------------------------------------\u001b[0m",
      "\u001b[0;31mFileNotFoundError\u001b[0m                         Traceback (most recent call last)",
      "Cell \u001b[0;32mIn[64], line 9\u001b[0m\n\u001b[1;32m      3\u001b[0m \u001b[38;5;66;03m# Initialize the downloader\u001b[39;00m\n\u001b[1;32m      4\u001b[0m downloader \u001b[38;5;241m=\u001b[39m M3U8Downloader(\n\u001b[1;32m      5\u001b[0m     input_file_path\u001b[38;5;241m=\u001b[39m\u001b[38;5;124m\"\u001b[39m\u001b[38;5;124mhttps://assets.cn.gartner.com/vod/ea33fdae-76fd-446a-99fc-e64f3ea90d27/hls/SYM34_11b.m3u8\u001b[39m\u001b[38;5;124m\"\u001b[39m,\n\u001b[1;32m      6\u001b[0m     output_file_path\u001b[38;5;241m=\u001b[39m\u001b[38;5;124m\"\u001b[39m\u001b[38;5;124mconference_video_1\u001b[39m\u001b[38;5;124m\"\u001b[39m\n\u001b[1;32m      7\u001b[0m )\n\u001b[0;32m----> 9\u001b[0m downloader\u001b[38;5;241m.\u001b[39mdownload_playlist()\n",
      "File \u001b[0;32m/opt/anaconda3/lib/python3.12/site-packages/pym3u8downloader/downloader.py:739\u001b[0m, in \u001b[0;36mM3U8Downloader.download_playlist\u001b[0;34m(self, merge)\u001b[0m\n\u001b[1;32m    734\u001b[0m \u001b[38;5;28;01mif\u001b[39;00m \u001b[38;5;129;01mnot\u001b[39;00m \u001b[38;5;28mself\u001b[39m\u001b[38;5;241m.\u001b[39m_download_index_file():\n\u001b[1;32m    735\u001b[0m     \u001b[38;5;28;01mraise\u001b[39;00m M3U8DownloaderError(\n\u001b[1;32m    736\u001b[0m         message\u001b[38;5;241m=\u001b[39m\u001b[38;5;124mf\u001b[39m\u001b[38;5;124m'\u001b[39m\u001b[38;5;124mUnable to download \u001b[39m\u001b[38;5;124m\"\u001b[39m\u001b[38;5;132;01m{\u001b[39;00m\u001b[38;5;28mself\u001b[39m\u001b[38;5;241m.\u001b[39m_index_file_name\u001b[38;5;132;01m}\u001b[39;00m\u001b[38;5;124m\"\u001b[39m\u001b[38;5;124m file.\u001b[39m\u001b[38;5;124m'\u001b[39m\n\u001b[1;32m    737\u001b[0m     )\n\u001b[0;32m--> 739\u001b[0m \u001b[38;5;28;01mif\u001b[39;00m \u001b[38;5;129;01mnot\u001b[39;00m \u001b[38;5;28mself\u001b[39m\u001b[38;5;241m.\u001b[39m_is_playlist_file():\n\u001b[1;32m    740\u001b[0m     \u001b[38;5;28;01mif\u001b[39;00m \u001b[38;5;28mself\u001b[39m\u001b[38;5;241m.\u001b[39m_is_master_file():\n\u001b[1;32m    741\u001b[0m         \u001b[38;5;28;01mraise\u001b[39;00m M3U8DownloaderError(\n\u001b[1;32m    742\u001b[0m             message\u001b[38;5;241m=\u001b[39m\u001b[38;5;124mf\u001b[39m\u001b[38;5;124m'\u001b[39m\u001b[38;5;124mIdentified file \u001b[39m\u001b[38;5;124m\"\u001b[39m\u001b[38;5;132;01m{\u001b[39;00m\u001b[38;5;28mself\u001b[39m\u001b[38;5;241m.\u001b[39m_input_file_path\u001b[38;5;132;01m}\u001b[39;00m\u001b[38;5;124m\"\u001b[39m\u001b[38;5;124m as master playlist. \u001b[39m\u001b[38;5;124m'\u001b[39m\n\u001b[1;32m    743\u001b[0m                     \u001b[38;5;124mf\u001b[39m\u001b[38;5;124m'\u001b[39m\u001b[38;5;124mPlease use \u001b[39m\u001b[38;5;124m\"\u001b[39m\u001b[38;5;124mdownload_master_playlist\u001b[39m\u001b[38;5;124m\"\u001b[39m\u001b[38;5;124m instead.\u001b[39m\u001b[38;5;124m'\u001b[39m\n\u001b[1;32m    744\u001b[0m         )\n",
      "File \u001b[0;32m/opt/anaconda3/lib/python3.12/site-packages/pym3u8downloader/downloader.py:592\u001b[0m, in \u001b[0;36mM3U8Downloader._is_playlist_file\u001b[0;34m(self)\u001b[0m\n\u001b[1;32m    589\u001b[0m is_playlist \u001b[38;5;241m=\u001b[39m \u001b[38;5;28;01mFalse\u001b[39;00m\n\u001b[1;32m    590\u001b[0m \u001b[38;5;28mself\u001b[39m\u001b[38;5;241m.\u001b[39m_debug_logger\u001b[38;5;241m.\u001b[39mdebug(\u001b[38;5;124m'\u001b[39m\u001b[38;5;124mVerifying if input file is playlist\u001b[39m\u001b[38;5;124m'\u001b[39m) \u001b[38;5;28;01mif\u001b[39;00m \u001b[38;5;28mself\u001b[39m\u001b[38;5;241m.\u001b[39m_debug \u001b[38;5;28;01melse\u001b[39;00m \u001b[38;5;28;01mNone\u001b[39;00m\n\u001b[0;32m--> 592\u001b[0m \u001b[38;5;28;01mwith\u001b[39;00m \u001b[38;5;28mopen\u001b[39m(os\u001b[38;5;241m.\u001b[39mpath\u001b[38;5;241m.\u001b[39mjoin(\u001b[38;5;28mself\u001b[39m\u001b[38;5;241m.\u001b[39m_temp_directory_path, \u001b[38;5;124m'\u001b[39m\u001b[38;5;124mindex.m3u8\u001b[39m\u001b[38;5;124m'\u001b[39m), \u001b[38;5;124m'\u001b[39m\u001b[38;5;124mr\u001b[39m\u001b[38;5;124m'\u001b[39m) \u001b[38;5;28;01mas\u001b[39;00m index_file:\n\u001b[1;32m    593\u001b[0m     \u001b[38;5;28;01mfor\u001b[39;00m line \u001b[38;5;129;01min\u001b[39;00m index_file:\n\u001b[1;32m    594\u001b[0m         \u001b[38;5;28;01mif\u001b[39;00m line\u001b[38;5;241m.\u001b[39mstartswith(\u001b[38;5;124m'\u001b[39m\u001b[38;5;124m#EXTINF\u001b[39m\u001b[38;5;124m'\u001b[39m):\n",
      "\u001b[0;31mFileNotFoundError\u001b[0m: [Errno 2] No such file or directory: '/var/folders/m4/1nzc6k0j3q5f9snfrxqcpfpw0000gn/T/7emmmmyjey/index.m3u8'"
     ]
    }
   ],
   "source": [
    "from pym3u8downloader import M3U8Downloader\n",
    "\n",
    "# Initialize the downloader\n",
    "downloader = M3U8Downloader(\n",
    "    input_file_path=\"https://assets.cn.gartner.com/vod/ea33fdae-76fd-446a-99fc-e64f3ea90d27/hls/SYM34_11b.m3u8\",\n",
    "    output_file_path=\"conference_video_1\"\n",
    ")\n",
    "\n",
    "downloader.download_playlist()"
   ]
  },
  {
   "cell_type": "code",
   "execution_count": null,
   "id": "f9cce68d-8b05-4c08-b4ac-fbe42c248b0d",
   "metadata": {},
   "outputs": [],
   "source": [
    "import m3u8_To_MP4\n",
    "\n",
    "if __name__ == '__main__':\n",
    "    customized_http_header=dict()\n",
    "    customized_http_header['Cookie']='dtCookie=v_4_srv_14_sn_T4IGVAO0JQQU9ALU3B1K0TLGTV2S9QTR_app-3A7dc532917fb040b3_1_app-3Aea7c4b59f27d43eb_1_app-3A7b5af0d1480eb600_1_app-3A74a9a024bfa90d62_1_ol_0_perc_100000_mul_1; rxVisitor=1730642043850EFH57OH7DUKSB7MCB2M741I1QFFGRNMQ; dtPC=14$244188778_524h-vQUKAPMPRUPPHRAFMKFSPMGPFHOFKLCBW-0e0; rxvt=1730645999726|1730642044558; _uetvid=ca7c21a099eb11ef9d8d15399ad551ff|rcnr3c|1730644190190|5|1|bat.bing.com/p/insights/c/o; ATRK_y=1; _dc_gtm_UA-8394889-3=1; _fbp=fb.1.1730642346620.725199160940794394; _ga=GA1.1.1445654177.1730642041; _ga_R1W5CE5FEV=GS1.1.1730642060.1.1.1730644189.59.0.0; _gcl_au=1.1.1066626084.1730642346; _gid=GA1.2.684943804.1730642044; _hjSessionUser_64884=eyJpZCI6IjAyZWM5ZWM3LTlhMjEtNTFhZC05YTBjLTZlMGZjZmRmNTQxMiIsImNyZWF0ZWQiOjE3MzA2NDIzNDY5MTgsImV4aXN0aW5nIjp0cnVlfQ==; _ju_dc=cb5d44c0-99eb-11ef-84e3-1bf5b014fc8e; _ju_dm=cookie; _ju_dn=1; _ju_pn=3; _uetsid=ca7c111099eb11ef9a894f8424f97431|1das7vr|2|fqk|0|1768; CloudFront-Key-Pair-Id=APKAJOU2JS2CRMNHPIVA; CloudFront-Policy=eyJTdGF0ZW1lbnQiOiBbeyJSZXNvdXJjZSI6Imh0dHAqOi8vYXNzZXRzLmNuLmdhcnRuZXIuY29tL3ZvZC9lYTMzZmRhZS03NmZkLTQ0NmEtOTlmYy1lNjRmM2VhOTBkMjcqIiwiQ29uZGl0aW9uIjp7IkRhdGVMZXNzVGhhbiI6eyJBV1M6RXBvY2hUaW1lIjoxNzYyMTI4MDAwfX19XX0_; CloudFront-Signature=X3VnD9j3EQuX3YpGmjjf~xrz-f8BqtZ--SvIgvrxeAkACE0TKscsVxiEdo8FdrTilRKCyNsgh72xRXUjIvb9YGYmlKTJCzUVAGdET2RUvqWcPnAccZi8XU2jyzkAzaQNXVKbfIS0py9nhBtVZ-ow61ADoERQLnElH9S9D~4Sr4sRBtuVXYoxZq8pukn8A56R5~ilCKm2n8C1H7CLjdTQphmONdMZOIswy-yrlyM4-BmhuLVcK-6HYh~d-y7xr-JO1MYpXyJ7H83yvBs6IG2BC5ESytGNyOYIJjo92mP8tNszSZN2bXHE1dKfRBVycPqsBuxjYGgBvbegVedUr6tgJQ__; dtSa=-; _hjSession_64884=eyJpZCI6IjU5MzYzZmUyLTAxMzItNGY5OC1hNzA3LTAyZmU5NGYxMDJkMyIsImMiOjE3MzA2NDIzNDY5MTgsInMiOjAsInIiOjAsInNiIjowLCJzciI6MCwic2UiOjAsImZzIjoxLCJzcCI6MH0=; _ga_1E4BLTY7N3=GS1.1.1730642040.1.1.1730643317.0.0.0; _ga_W2FTQN4L9P=GS1.1.1730642040.1.1.1730643317.0.0.0; WCW_Authentication=-1873138917046058641GUSPR289388855; WCW_Security=-3595956313077039110SunNov03085845EST2024; WCW_Marker=209996289; __cf_bm=I3TtfzDw.KJBt9ZUNt3LumRK_nyHUAtaPCgXmaKaxb4-1730643292-1.0.1.1-Hib0p2Nez5UCfKzEAVQPBtm0Gfgp_UtC9PJMDtEALbmx4jS6DuDtsDNe2lMalFS_zyZxiEuSISPYqEdodWTSVw; AuthToken=335ed106-f9a2-4c05-956a-96e36d5eb6b2; ATRK_a=99c5f650cf714ec88f0843b4898f9c5d.1; ATRK_t=1; _ga_B6MC46VXV3=GS1.1.1730642044.1.1.1730642344.0.0.0; Fill_Profile_Prompt={\"EventCode\":\"SYM34\",\"Completed\":true,\"Percentage\":100}; fs_uid=#o-19BFMT-na1#81920bce-7446-46c6-aac7-cda1a1675e3c:e2ff72dc-00b3-40d3-8b00-25e7134a07ab:1730642044735::4#/1762178052; OptanonAlertBoxClosed=2024-11-03T13:54:27.483Z; OptanonConsent=isIABGlobal=false&datestamp=Sun+Nov+03+2024+06%3A54%3A27+GMT-0700+(Mountain+Standard+Time)&version=202208.1.0&hosts=&genVendors=&landingPath=NotLandingPage&groups=C0001%3A1%2CC0004%3A1%2CC0003%3A1%2CC0002%3A1&isGpcEnabled=0&browserGpcFlag=0&AwaitingReconsent=false&geolocation=US%3BCO; AMCVS_04D07E1C5E4DDABB0A495ED1%40AdobeOrg=1; AMCV_04D07E1C5E4DDABB0A495ED1%40AdobeOrg=-637568504%7CMCIDTS%7C20031%7CMCMID%7C35299439687326493153121912775381691448%7CMCAAMLH-1731246860%7C9%7CMCAAMB-1731246860%7C6G1ynYcLPuiQxYZrsz_pkqfLG9yMXBpb2zX5dvJdYQJzPXImdj0y%7CMCOPTOUT-1730649260s%7CNONE%7CMCSYNCSOP%7C411-20038%7CvVersion%7C5.1.1; cf_clearance=qRBYgrfeLODdvC8atuCDkfNynekAepWJPA1IpuDXx.8-1730642043-1.2.1.1-yamFx00olXYxjeOfXySgHgXWK6PtNOU6nUWaZuVELR2MHFHBzrnQLjgEiY0GERMNSc_TbjjCd792XFAP0fzinKdIojYRB4f2Dhjo3JQHWT4n1h..Y7q4sPCQ6bN4.4kPTXa5GKMNpwoWU4GONqzqjP2HBXHjU6lH6pbM0GEsie9O2pHM4hejuKsGtjlCW8j_jzX.bl.sgRbgwR5L4e2.1Qh0D4gDVZIzj20qbvnx2plj1cYXsAXJTzumxTZpXyRicyDPr5RFftDZbvgz.5vIyURxRPnTBavsp4McsV9P5LqvNwfcyCUyN2r1U9r8ak.MNlBnRtB_NqjieLOfTNGEfz86tVhVQab3g.UR3zYJ2xxkE7i0wLHLK6uORgkZRKCzB3Ce0uzy7gbmFZ3F2WAEbg; _cfuvid=3lD8QQGR97nDYixW1GxYVraELzqtNwiZ9v7BLjBdafQ-1730642042968-0.0.1.1-604800000'\n",
    "    customized_http_header['X-Playback-Session-Id']='8557E1FE-D582-4AA3-938F-9D6F478E13DF'\n",
    "    customized_http_header['Referer']='https://cn.gartner.com/'\n",
    "\n",
    "    m3u8_To_MP4.multithread_download(\n",
    "        'https://assets.cn.gartner.com/vod/ea33fdae-76fd-446a-99fc-e64f3ea90d27/hls/SYM34_11b.m3u8',\n",
    "        customized_http_header=customized_http_header,\n",
    "    )"
   ]
  },
  {
   "cell_type": "code",
   "execution_count": null,
   "id": "7177d9de-9a1f-4bef-bca4-8356afe1552e",
   "metadata": {},
   "outputs": [],
   "source": [
    "pip install moviepy"
   ]
  },
  {
   "cell_type": "code",
   "execution_count": null,
   "id": "20794da2-dbed-4f3a-821e-c0db47b03e96",
   "metadata": {},
   "outputs": [],
   "source": [
    "import os\n",
    "import sys\n",
    "from moviepy.editor import VideoFileClip\n",
    "\n",
    "def convert_video_to_audio_moviepy(video_file, output_ext=\"mp3\"):\n",
    "    \"\"\"Converts video to audio using MoviePy library\n",
    "    that uses `ffmpeg` under the hood\"\"\"\n",
    "    filename, ext = os.path.splitext(video_file)\n",
    "    clip = VideoFileClip(video_file)\n",
    "    clip.audio.write_audiofile(f\"{filename}.{output_ext}\")\n",
    "\n",
    "\n",
    "convert_video_to_audio_moviepy('./m3u8_To_MP4.mp4')"
   ]
  },
  {
   "cell_type": "code",
   "execution_count": null,
   "id": "4d25fe02-6437-4658-9a57-15383728d877",
   "metadata": {},
   "outputs": [],
   "source": [
    "pip install openai-whisper"
   ]
  },
  {
   "cell_type": "code",
   "execution_count": null,
   "id": "d97c9558-750b-451f-b5d6-48f805b6277a",
   "metadata": {},
   "outputs": [],
   "source": [
    "import whisper\n",
    "\n",
    "model = whisper.load_model(\"turbo\")\n",
    "result = model.transcribe(\"./audio/m3u8_To_MP4.mp3\")\n",
    "print(result[\"text\"])"
   ]
  },
  {
   "cell_type": "code",
   "execution_count": 65,
   "id": "295524ee-5b95-4447-acd6-4a3f62ab99c0",
   "metadata": {},
   "outputs": [
    {
     "name": "stdout",
     "output_type": "stream",
     "text": [
      "['text', 'segments', 'language']\n"
     ]
    }
   ],
   "source": [
    "print(list(result.keys()))"
   ]
  },
  {
   "cell_type": "code",
   "execution_count": 66,
   "id": "ad4be798-cbb2-4083-8229-e87de3372586",
   "metadata": {},
   "outputs": [
    {
     "name": "stdout",
     "output_type": "stream",
     "text": [
      "{'id': 1, 'seek': 0, 'start': 10.14, 'end': 15.58, 'text': \" my name is Tina Nuno. I'm with Gartner Research, and it's my pleasure to have the opportunity to\", 'tokens': [50872, 452, 1315, 307, 28504, 426, 12638, 13, 286, 478, 365, 460, 446, 1193, 10303, 11, 293, 309, 311, 452, 6834, 281, 362, 264, 2650, 281, 51144], 'temperature': 0.0, 'avg_logprob': -0.08812392487817881, 'compression_ratio': 1.6026200873362446, 'no_speech_prob': 8.765396720088192e-13}\n",
      "27\n",
      " my name is Tina Nuno. I'm with Gartner Research, and it's my pleasure to have the opportunity to\n"
     ]
    }
   ],
   "source": [
    "print(result['segments'][1])\n",
    "print(len(result['segments'][1]['tokens']))\n",
    "print(result['segments'][1]['text'])"
   ]
  },
  {
   "cell_type": "code",
   "execution_count": 73,
   "id": "e5e1beb3-f91d-4388-815e-90960ad5ee64",
   "metadata": {},
   "outputs": [],
   "source": [
    "with open(\"./transcriptions/m3u8_To_MP4.txt\", \"w\") as text_file:\n",
    "    text_file.write(result['text'])"
   ]
  },
  {
   "cell_type": "code",
   "execution_count": null,
   "id": "7269d9b1-7c34-4b12-bd3b-24a809bf55c5",
   "metadata": {},
   "outputs": [],
   "source": [
    "pip install summa"
   ]
  },
  {
   "cell_type": "code",
   "execution_count": null,
   "id": "3088ab64-5a76-4bc6-8707-c74d53039312",
   "metadata": {},
   "outputs": [],
   "source": [
    "from summa import keywords\n",
    "\n",
    "TR_keywords = keywords.keywords(result['text'], scores=True)\n",
    "print(TR_keywords[0:10])"
   ]
  },
  {
   "cell_type": "code",
   "execution_count": null,
   "id": "e38fa78b-4ff4-47c4-bc73-1fe60138d32e",
   "metadata": {},
   "outputs": [],
   "source": [
    "pip install keybert"
   ]
  },
  {
   "cell_type": "code",
   "execution_count": null,
   "id": "adc08bfb-99c8-415b-bff8-48219a6b4a1c",
   "metadata": {},
   "outputs": [],
   "source": [
    "pip install keyphrase-vectorizers"
   ]
  },
  {
   "cell_type": "code",
   "execution_count": 74,
   "id": "e5f9fdc9-7aa1-42d5-8dfe-0f930416f332",
   "metadata": {},
   "outputs": [
    {
     "name": "stderr",
     "output_type": "stream",
     "text": [
      "2024-11-03 09:28:12,395 | INFO | Use pytorch device_name: mps\n",
      "2024-11-03 09:28:12,397 | INFO | Load pretrained SentenceTransformer: all-MiniLM-L6-v2\n"
     ]
    },
    {
     "name": "stdout",
     "output_type": "stream",
     "text": [
      "['ai board presentations', 'great board conversations', 'great board presentations', 'set ai expectations', 'oversee ai', 'board meeting', 'ai strategy', 'ai generator', 'many board meetings', 'ai']\n"
     ]
    }
   ],
   "source": [
    "from keybert import KeyBERT\n",
    "from keyphrase_vectorizers import KeyphraseCountVectorizer\n",
    "\n",
    "kw_model = KeyBERT()\n",
    "keywords = kw_model.extract_keywords(result['text'], \n",
    "                                     vectorizer=KeyphraseCountVectorizer(),\n",
    "                                     stop_words='english', \n",
    "                                     highlight=False,\n",
    "                                     top_n=10)\n",
    "\n",
    "keywords_list = list(dict(keywords).keys())\n",
    "print(keywords_list)"
   ]
  },
  {
   "cell_type": "code",
   "execution_count": 75,
   "id": "a362183b-653a-4c73-a625-f1c4d10d250a",
   "metadata": {},
   "outputs": [
    {
     "name": "stderr",
     "output_type": "stream",
     "text": [
      "huggingface/tokenizers: The current process just got forked, after parallelism has already been used. Disabling parallelism to avoid deadlocks...\n",
      "To disable this warning, you can either:\n",
      "\t- Avoid using `tokenizers` before the fork if possible\n",
      "\t- Explicitly set the environment variable TOKENIZERS_PARALLELISM=(true | false)\n"
     ]
    },
    {
     "name": "stdout",
     "output_type": "stream",
     "text": [
      "Collecting pypdf2\n",
      "  Downloading pypdf2-3.0.1-py3-none-any.whl.metadata (6.8 kB)\n",
      "Downloading pypdf2-3.0.1-py3-none-any.whl (232 kB)\n",
      "Installing collected packages: pypdf2\n",
      "Successfully installed pypdf2-3.0.1\n",
      "Note: you may need to restart the kernel to use updated packages.\n"
     ]
    }
   ],
   "source": [
    "pip install pypdf2"
   ]
  },
  {
   "cell_type": "code",
   "execution_count": 78,
   "id": "e3c53578-f3a0-497e-ac7a-498e5aa07d10",
   "metadata": {},
   "outputs": [
    {
     "name": "stdout",
     "output_type": "stream",
     "text": [
      "2 © 2024 Gartner, Inc. and/or its affiliates. All rights reserved. Gartner is a registered trademark of Gartner, Inc. and its aff iliates.\n",
      "Early 2023\n",
      "What are the \n",
      "risks to our \n",
      "business?The Board’s Interest in AI Has Rapidly Evolved\n",
      "Late 2022\n",
      "What are AI \n",
      "and GenAI?Today\n",
      "Show me \n",
      "the money!\n",
      "\n"
     ]
    }
   ],
   "source": [
    "from PyPDF2 import PdfReader\n",
    "\n",
    "reader = PdfReader(\"./pdfs/11b_SYM34_How to Present to the Board on AI_1574360.pdf\")\n",
    "page = reader.pages[1]\n",
    "print(page.extract_text())"
   ]
  },
  {
   "cell_type": "code",
   "execution_count": null,
   "id": "930f6594-1f1a-4f6c-9782-a94a65e402fe",
   "metadata": {},
   "outputs": [],
   "source": []
  }
 ],
 "metadata": {
  "kernelspec": {
   "display_name": "Python 3 (ipykernel)",
   "language": "python",
   "name": "python3"
  },
  "language_info": {
   "codemirror_mode": {
    "name": "ipython",
    "version": 3
   },
   "file_extension": ".py",
   "mimetype": "text/x-python",
   "name": "python",
   "nbconvert_exporter": "python",
   "pygments_lexer": "ipython3",
   "version": "3.12.7"
  }
 },
 "nbformat": 4,
 "nbformat_minor": 5
}
